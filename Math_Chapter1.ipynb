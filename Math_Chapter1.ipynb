{
 "cells": [
  {
   "cell_type": "raw",
   "metadata": {},
   "source": [
    "You already know how to throw a six sided dice. Let's look at that"
   ]
  },
  {
   "cell_type": "code",
   "execution_count": 25,
   "metadata": {},
   "outputs": [
    {
     "name": "stdout",
     "output_type": "stream",
     "text": [
      "4\n"
     ]
    }
   ],
   "source": [
    "#Throw a six sided dice\n",
    "import random\n",
    "x=random.randint(1,6)\n",
    "print(x)"
   ]
  },
  {
   "cell_type": "raw",
   "metadata": {},
   "source": [
    "\"import random\" imports a Python module which provide random number functionality. Modules are collection of program which implement useful features. You can even write your own module, but we will talk about that later. \"random.randint\" calls the function \"randint\" from the module \"random.\" ranint function generates a random integer between the range you specify inside the braces. randint(1,6) means that randint should return a random integer between 1 and 6 with equal probability.\n",
    "\n",
    "If you want to store and later use the value returned by randint, you have to store that in a variable. In the example above we store the value returned by randint in the varibale \"x\". Since randint returns a random value, every time you call ranint the value of x will change. Try running the example above a few time to see what happens.\n",
    "\n",
    "What if you want to throw a eight sided dice?\n",
    "\n"
   ]
  },
  {
   "cell_type": "code",
   "execution_count": 26,
   "metadata": {},
   "outputs": [
    {
     "name": "stdout",
     "output_type": "stream",
     "text": [
      "3\n"
     ]
    }
   ],
   "source": [
    "#Throw a eight sided dice\n",
    "import random\n",
    "x=random.randint(1,8)\n",
    "print(x)"
   ]
  },
  {
   "cell_type": "raw",
   "metadata": {},
   "source": [
    "Run the program above a few times. Observe what values are returned.\n",
    "Variables are very powerful. You can use variables as arguments in a function to pass different values. In randint(1,6), 1 and 6 are arguments to the function randint. They specify the range from which randint picks a random number. You can use variables as arguments as well. A simple example of using a varibale as an argument is the print() function. Note that it is customary to write () after the function name. print() tells you that print is a function. Similarly, random.randint() tells you that randint is function in the module random.\n",
    "Let's look at the example below"
   ]
  },
  {
   "cell_type": "code",
   "execution_count": 27,
   "metadata": {},
   "outputs": [
    {
     "name": "stdout",
     "output_type": "stream",
     "text": [
      "3\n"
     ]
    }
   ],
   "source": [
    "#Using variable as a argument to a function\n",
    "z=3\n",
    "print(z)"
   ]
  },
  {
   "cell_type": "raw",
   "metadata": {},
   "source": [
    "Change the value of z in the example above to different values. Notice what happens? You can give variable any name. x,y,z, myVaribale, randomNumber etc. are legal names. Generally, it is a good idea to give variable a name which tells you what you are storing in a variable. For e.g. you might want to call a varibale which store value of a random_1_6. This will allow you to remember that the varibales contains a random value between 1 to 6."
   ]
  },
  {
   "cell_type": "raw",
   "metadata": {},
   "source": [
    "Q) Write a program to throw an N sided dice. Hint: N can be varibale."
   ]
  },
  {
   "cell_type": "code",
   "execution_count": null,
   "metadata": {},
   "outputs": [],
   "source": [
    "# Your program goes below"
   ]
  },
  {
   "cell_type": "raw",
   "metadata": {},
   "source": [
    "Write a program which throws a six sided dice. Run it 10,000 times and calculate the probability of values from 1-6. b) Modify the program to throw N sided dice (Hint: You can make N a varibale). Run the program 10,000 times for N=8,10 and 12 and calculate the probability of each value occuring. Write a detailed explanation of the results.\n"
   ]
  }
 ],
 "metadata": {
  "kernelspec": {
   "display_name": "Python 3",
   "language": "python",
   "name": "python3"
  },
  "language_info": {
   "codemirror_mode": {
    "name": "ipython",
    "version": 3
   },
   "file_extension": ".py",
   "mimetype": "text/x-python",
   "name": "python",
   "nbconvert_exporter": "python",
   "pygments_lexer": "ipython3",
   "version": "3.6.5"
  }
 },
 "nbformat": 4,
 "nbformat_minor": 2
}
