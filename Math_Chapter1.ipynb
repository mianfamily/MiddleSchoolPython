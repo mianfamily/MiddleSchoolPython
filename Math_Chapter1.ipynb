{
 "cells": [
  {
   "cell_type": "markdown",
   "metadata": {},
   "source": [
    "# Chapter 1: Basics"
   ]
  },
  {
   "cell_type": "raw",
   "metadata": {},
   "source": [
    "You already know how to throw a six sided dice. Let's look at that"
   ]
  },
  {
   "cell_type": "code",
   "execution_count": 1,
   "metadata": {},
   "outputs": [
    {
     "name": "stdout",
     "output_type": "stream",
     "text": [
      "1\n"
     ]
    }
   ],
   "source": [
    "#Throw a six sided dice\n",
    "import random\n",
    "x=random.randint(1,6)\n",
    "print(x)"
   ]
  },
  {
   "cell_type": "raw",
   "metadata": {},
   "source": [
    "\"import random\" imports a Python module which provide random number functionality. Modules are collection of program which implement useful features. You can even write your own module, but we will talk about that later. \"random.randint\" calls the function \"randint\" from the module \"random.\" ranint function generates a random integer between the range you specify inside the braces. randint(1,6) means that randint should return a random integer between 1 and 6 with equal probability.\n",
    "\n",
    "If you want to store and later use the value returned by randint, you have to store that in a variable. In the example above we store the value returned by randint in the varibale \"x\". Since randint returns a random value, every time you call ranint the value of x will change. Try running the example above a few time to see what happens.\n",
    "\n",
    "What if you want to throw a eight sided dice?\n",
    "\n"
   ]
  },
  {
   "cell_type": "code",
   "execution_count": 26,
   "metadata": {},
   "outputs": [
    {
     "name": "stdout",
     "output_type": "stream",
     "text": [
      "3\n"
     ]
    }
   ],
   "source": [
    "#Throw a eight sided dice\n",
    "import random\n",
    "x=random.randint(1,8)\n",
    "print(x)"
   ]
  },
  {
   "cell_type": "raw",
   "metadata": {},
   "source": [
    "Run the program above a few times. Observe what values are returned.\n",
    "Variables are very powerful. You can use variables as arguments in a function to pass different values. In randint(1,6), 1 and 6 are arguments to the function randint. They specify the range from which randint picks a random number. You can use variables as arguments as well. A simple example of using a varibale as an argument is the print() function. Note that it is customary to write () after the function name. print() tells you that print is a function. Similarly, random.randint() tells you that randint is function in the module random.\n",
    "Let's look at the example below"
   ]
  },
  {
   "cell_type": "code",
   "execution_count": 27,
   "metadata": {},
   "outputs": [
    {
     "name": "stdout",
     "output_type": "stream",
     "text": [
      "3\n"
     ]
    }
   ],
   "source": [
    "#Using variable as a argument to a function\n",
    "z=3\n",
    "print(z)"
   ]
  },
  {
   "cell_type": "raw",
   "metadata": {},
   "source": [
    "Change the value of z in the example above to different values. Notice what happens? You can give variable any name. x,y,z, myVaribale, randomNumber etc. are legal names. Generally, it is a good idea to give variable a name which tells you what you are storing in a variable. For e.g. you might want to call a varibale which store value of a random_1_6. This will allow you to remember that the varibales contains a random value between 1 to 6."
   ]
  },
  {
   "cell_type": "raw",
   "metadata": {},
   "source": [
    "Q) Write a program to throw an N sided dice. Hint: N can be varibale."
   ]
  },
  {
   "cell_type": "code",
   "execution_count": null,
   "metadata": {},
   "outputs": [],
   "source": [
    "# Your program goes below"
   ]
  },
  {
   "cell_type": "raw",
   "metadata": {},
   "source": [
    "You can even change the value of a varibale by taking input from the user of your program."
   ]
  },
  {
   "cell_type": "code",
   "execution_count": 3,
   "metadata": {},
   "outputs": [
    {
     "name": "stdout",
     "output_type": "stream",
     "text": [
      "You age is: 44\n"
     ]
    }
   ],
   "source": [
    "#Using varibale to get input\n",
    "x=input(\"What is your age: \")\n",
    "print(\"You age is:\",x)"
   ]
  },
  {
   "cell_type": "raw",
   "metadata": {},
   "source": [
    "input() is a function provided by Python to take user input. Now write a program which will as a user the value of N and then throw an N sided dice."
   ]
  },
  {
   "cell_type": "code",
   "execution_count": null,
   "metadata": {},
   "outputs": [],
   "source": [
    "#Your program goes below"
   ]
  },
  {
   "cell_type": "raw",
   "metadata": {},
   "source": [
    "=Lists=\n",
    "Before you go any further you need undestand what is a List in Python. A list is simply a collection of things. For example, x=[1,3,5] is list which has three integers 1,3 and 5 in it."
   ]
  },
  {
   "cell_type": "code",
   "execution_count": 4,
   "metadata": {},
   "outputs": [
    {
     "name": "stdout",
     "output_type": "stream",
     "text": [
      "[1, 3, 5]\n"
     ]
    }
   ],
   "source": [
    "x=[1,3,5]\n",
    "print(x)"
   ]
  },
  {
   "cell_type": "raw",
   "metadata": {},
   "source": [
    "Notice that when you print a list, print() function writes all elements of a list. Let's see another example"
   ]
  },
  {
   "cell_type": "code",
   "execution_count": 7,
   "metadata": {},
   "outputs": [
    {
     "name": "stdout",
     "output_type": "stream",
     "text": [
      "[1, 'Hello', 29]\n"
     ]
    }
   ],
   "source": [
    "myList=[1,\"Hello\",29]\n",
    "print(myList)"
   ]
  },
  {
   "cell_type": "raw",
   "metadata": {},
   "source": [
    "Now let's try this"
   ]
  },
  {
   "cell_type": "code",
   "execution_count": 10,
   "metadata": {},
   "outputs": [
    {
     "name": "stdout",
     "output_type": "stream",
     "text": [
      "1\n"
     ]
    }
   ],
   "source": [
    "print(myList[0])"
   ]
  },
  {
   "cell_type": "code",
   "execution_count": 15,
   "metadata": {},
   "outputs": [
    {
     "name": "stdout",
     "output_type": "stream",
     "text": [
      "Hello\n",
      "29\n"
     ]
    }
   ],
   "source": [
    "\n",
    "print(myList[1])\n",
    "print(myList[2])"
   ]
  },
  {
   "cell_type": "raw",
   "metadata": {},
   "source": [
    "Notice that you can reference each element of a list by it's position in the list. For e.g. when you write myList[0], you are referencing first element in the list. In programming we like to start counting things from zero. This is an important concept to remember. Therefore myList[1] is the second element. You can even use variables to reference elements of a list."
   ]
  },
  {
   "cell_type": "code",
   "execution_count": 14,
   "metadata": {},
   "outputs": [
    {
     "name": "stdout",
     "output_type": "stream",
     "text": [
      "30\n"
     ]
    }
   ],
   "source": [
    "mySecondList=[20,25,30,35]\n",
    "x=2\n",
    "print(mySecondList[x]) #Guess what will be printed?"
   ]
  },
  {
   "cell_type": "raw",
   "metadata": {},
   "source": [
    "Q) Write a program which asks the user which element of the list to print for the list colorList=[\"red\",\"yellow\",\"green\"] and then print that element."
   ]
  },
  {
   "cell_type": "code",
   "execution_count": null,
   "metadata": {},
   "outputs": [],
   "source": [
    "#Your program goes here"
   ]
  },
  {
   "cell_type": "raw",
   "metadata": {},
   "source": [
    "In many cases you want your program to repeat something many times. If you know how many times you want to repeat something you can use a \"for\" loop."
   ]
  },
  {
   "cell_type": "code",
   "execution_count": null,
   "metadata": {},
   "outputs": [],
   "source": [
    "#For loop to repeat 5 times\n",
    "x=[1,2,3,4,5]\n",
    "for i in x:\n",
    "    print(i)"
   ]
  },
  {
   "cell_type": "raw",
   "metadata": {},
   "source": [
    "Write a program which throws a six sided dice. Run it 10,000 times and calculate the probability of values from 1-6. b) Modify the program to throw N sided dice (Hint: You can make N a varibale). Run the program 10,000 times for N=8,10 and 12 and calculate the probability of each value occuring. Write a detailed explanation of the results.\n"
   ]
  }
 ],
 "metadata": {
  "kernelspec": {
   "display_name": "Python 3",
   "language": "python",
   "name": "python3"
  },
  "language_info": {
   "codemirror_mode": {
    "name": "ipython",
    "version": 3
   },
   "file_extension": ".py",
   "mimetype": "text/x-python",
   "name": "python",
   "nbconvert_exporter": "python",
   "pygments_lexer": "ipython3",
   "version": "3.6.5"
  }
 },
 "nbformat": 4,
 "nbformat_minor": 2
}
